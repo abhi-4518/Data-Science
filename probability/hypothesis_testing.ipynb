{
 "cells": [
  {
   "cell_type": "code",
   "execution_count": 1,
   "metadata": {},
   "outputs": [],
   "source": [
    "import pandas as pd\n",
    "import numpy as np\n",
    "from scipy import stats"
   ]
  },
  {
   "cell_type": "code",
   "execution_count": 2,
   "metadata": {},
   "outputs": [],
   "source": [
    "aqi = pd.read_csv('modified_c4_epa_air_quality.csv')"
   ]
  },
  {
   "cell_type": "code",
   "execution_count": 3,
   "metadata": {},
   "outputs": [
    {
     "name": "stdout",
     "output_type": "stream",
     "text": [
      "Use head() to show a sample of data\n",
      "   date_local    state_name   county_name      city_name  \\\n",
      "0  2018-01-01       Arizona      Maricopa        Buckeye   \n",
      "1  2018-01-01          Ohio       Belmont      Shadyside   \n",
      "2  2018-01-01       Wyoming         Teton  Not in a city   \n",
      "3  2018-01-01  Pennsylvania  Philadelphia   Philadelphia   \n",
      "4  2018-01-01          Iowa          Polk     Des Moines   \n",
      "\n",
      "                                     local_site_name   parameter_name  \\\n",
      "0                                            BUCKEYE  Carbon monoxide   \n",
      "1                                          Shadyside  Carbon monoxide   \n",
      "2  Yellowstone National Park - Old Faithful Snow ...  Carbon monoxide   \n",
      "3                             North East Waste (NEW)  Carbon monoxide   \n",
      "4                                          CARPENTER  Carbon monoxide   \n",
      "\n",
      "    units_of_measure   aqi_log  \n",
      "0  Parts per million  2.079442  \n",
      "1  Parts per million  1.791759  \n",
      "2  Parts per million  1.098612  \n",
      "3  Parts per million  1.386294  \n",
      "4  Parts per million  1.386294  \n",
      "Use describe() to summarize AQI\n",
      "        date_local  state_name  county_name      city_name local_site_name  \\\n",
      "count          260         260          260            260             257   \n",
      "unique           1          52          149            190             253   \n",
      "top     2018-01-01  California  Los Angeles  Not in a city         Kapolei   \n",
      "freq           260          66           14             21               2   \n",
      "mean           NaN         NaN          NaN            NaN             NaN   \n",
      "std            NaN         NaN          NaN            NaN             NaN   \n",
      "min            NaN         NaN          NaN            NaN             NaN   \n",
      "25%            NaN         NaN          NaN            NaN             NaN   \n",
      "50%            NaN         NaN          NaN            NaN             NaN   \n",
      "75%            NaN         NaN          NaN            NaN             NaN   \n",
      "max            NaN         NaN          NaN            NaN             NaN   \n",
      "\n",
      "         parameter_name   units_of_measure     aqi_log  \n",
      "count               260                260  260.000000  \n",
      "unique                1                  1         NaN  \n",
      "top     Carbon monoxide  Parts per million         NaN  \n",
      "freq                260                260         NaN  \n",
      "mean                NaN                NaN    1.766921  \n",
      "std                 NaN                NaN    0.714716  \n",
      "min                 NaN                NaN    0.000000  \n",
      "25%                 NaN                NaN    1.098612  \n",
      "50%                 NaN                NaN    1.791759  \n",
      "75%                 NaN                NaN    2.302585  \n",
      "max                 NaN                NaN    3.931826  \n",
      "For a more thorough examination of observations by state use values_counts()\n",
      "state_name\n",
      "California              66\n",
      "Arizona                 14\n",
      "Ohio                    12\n",
      "Florida                 12\n",
      "Texas                   10\n",
      "New York                10\n",
      "Pennsylvania            10\n",
      "Michigan                 9\n",
      "Colorado                 9\n",
      "Minnesota                7\n",
      "New Jersey               6\n",
      "Indiana                  5\n",
      "North Carolina           4\n",
      "Massachusetts            4\n",
      "Maryland                 4\n",
      "Oklahoma                 4\n",
      "Virginia                 4\n",
      "Nevada                   4\n",
      "Connecticut              4\n",
      "Kentucky                 3\n",
      "Missouri                 3\n",
      "Wyoming                  3\n",
      "Iowa                     3\n",
      "Hawaii                   3\n",
      "Utah                     3\n",
      "Vermont                  3\n",
      "Illinois                 3\n",
      "New Hampshire            2\n",
      "District Of Columbia     2\n",
      "New Mexico               2\n",
      "Montana                  2\n",
      "Oregon                   2\n",
      "Alaska                   2\n",
      "Georgia                  2\n",
      "Washington               2\n",
      "Idaho                    2\n",
      "Nebraska                 2\n",
      "Rhode Island             2\n",
      "Tennessee                2\n",
      "Maine                    2\n",
      "South Carolina           1\n",
      "Puerto Rico              1\n",
      "Arkansas                 1\n",
      "Kansas                   1\n",
      "Mississippi              1\n",
      "Alabama                  1\n",
      "Louisiana                1\n",
      "Delaware                 1\n",
      "South Dakota             1\n",
      "West Virginia            1\n",
      "North Dakota             1\n",
      "Wisconsin                1\n",
      "Name: count, dtype: int64\n",
      "for a more\n"
     ]
    }
   ],
   "source": [
    "# Explore your dataframe `aqi` here:\n",
    "\n",
    "### YOUR CODE HERE ###\n",
    "\n",
    "print(\"Use head() to show a sample of data\")\n",
    "print(aqi.head())\n",
    "\n",
    "print(\"Use describe() to summarize AQI\")\n",
    "print(aqi.describe(include='all'))\n",
    "\n",
    "print(\"For a more thorough examination of observations by state use values_counts()\")\n",
    "print(aqi['state_name'].value_counts())\n",
    "\n",
    "print('for a more')"
   ]
  },
  {
   "cell_type": "markdown",
   "metadata": {},
   "source": [
    "Statistical Tests\n",
    "Before you proceed, recall the following steps for conducting hypothesis testing:\n",
    "\n",
    "Formulate the null hypothesis and the alternative hypothesis.\n",
    "Set the significance level.\n",
    "Determine the appropriate test procedure.\n",
    "Compute the p-value.\n",
    "Draw your conclusion."
   ]
  },
  {
   "cell_type": "markdown",
   "metadata": {},
   "source": [
    "Hypothesis 1: ROA is considering a metropolitan-focused approach. Within California, they want to know if the mean AQI in Los Angeles County is statistically different from the rest of California.\n",
    "Before proceeding with your analysis, it will be helpful to subset the data for your comparison."
   ]
  },
  {
   "cell_type": "code",
   "execution_count": 4,
   "metadata": {},
   "outputs": [],
   "source": [
    "# Create dataframes for each sample being compared in your test\n",
    "\n",
    "ca_la = aqi[aqi['county_name']=='Los Angeles']\n",
    "ca_other = aqi[(aqi['state_name']=='California') & (aqi['county_name']!='Los Angeles')]"
   ]
  },
  {
   "cell_type": "markdown",
   "metadata": {},
   "source": [
    "Formulate your null and alternative hypotheses:\n",
    "\n",
    "𝐻0\n",
    " : There is no difference in the mean AQI between Los Angeles County and the rest of California.\n",
    "𝐻𝐴\n",
    " : There is a difference in the mean AQI between Los Angeles County and the rest of California."
   ]
  },
  {
   "cell_type": "code",
   "execution_count": 5,
   "metadata": {},
   "outputs": [
    {
     "data": {
      "text/plain": [
       "0.05"
      ]
     },
     "execution_count": 5,
     "metadata": {},
     "output_type": "execute_result"
    }
   ],
   "source": [
    "# For this analysis, the significance level is 5%\n",
    "\n",
    "significance_level = 0.05\n",
    "significance_level"
   ]
  },
  {
   "cell_type": "code",
   "execution_count": 7,
   "metadata": {},
   "outputs": [
    {
     "data": {
      "text/plain": [
       "TtestResult(statistic=2.6634948777424294, pvalue=0.01340695749474014, df=24.718268167748167)"
      ]
     },
     "execution_count": 7,
     "metadata": {},
     "output_type": "execute_result"
    }
   ],
   "source": [
    "# Compute your p-value here\n",
    "\n",
    "stats.ttest_ind(a=ca_la['aqi_log'], b=ca_other['aqi_log'], equal_var=False)"
   ]
  },
  {
   "cell_type": "markdown",
   "metadata": {},
   "source": [
    " p-value (0.013) being less than 0.05 (as your significance level is 5%), reject the null hypothesis in favor of the alternative hypothesis.\n",
    "\n",
    " Therefore, a metropolitan strategy may make sense in this case."
   ]
  },
  {
   "cell_type": "markdown",
   "metadata": {},
   "source": [
    "Hypothesis 2: With limited resources, ROA has to choose between New York and Ohio for their next regional office. Does New York have a lower AQI than Ohio?\n"
   ]
  },
  {
   "cell_type": "code",
   "execution_count": 8,
   "metadata": {},
   "outputs": [],
   "source": [
    "# Create dataframes for each sample being compared in your test\n",
    "\n",
    "ny = aqi[aqi['state_name']=='New York']\n",
    "ohio = aqi[aqi['state_name']=='Ohio']"
   ]
  },
  {
   "cell_type": "markdown",
   "metadata": {},
   "source": [
    "Formulate your null and alternative hypotheses:\n",
    "\n",
    "𝐻0\n",
    " : The mean AQI of New York is greater than or equal to that of Ohio.\n",
    "\n",
    "𝐻𝐴\n",
    " : The mean AQI of New York is below that of Ohio."
   ]
  },
  {
   "cell_type": "code",
   "execution_count": 9,
   "metadata": {},
   "outputs": [
    {
     "name": "stdout",
     "output_type": "stream",
     "text": [
      "-1.9751468128067786\n",
      "0.032154494571438326\n"
     ]
    }
   ],
   "source": [
    "# Compute your p-value here\n",
    "\n",
    "tstat, pvalue = stats.ttest_ind(a=ny['aqi_log'], b=ohio['aqi_log'], alternative='less', equal_var=False)\n",
    "print(tstat)\n",
    "print(pvalue)"
   ]
  },
  {
   "cell_type": "markdown",
   "metadata": {},
   "source": [
    "With a p-value (0.030) of less than 0.05 (as your significance level is 5%) and a t-statistic < 0 (-2.036), reject the null hypothesis in favor of the alternative hypothesis.\n",
    "\n",
    "Therefore, you can conclude at the 5% significance level that New York has a lower mean AQI than Ohio."
   ]
  },
  {
   "cell_type": "markdown",
   "metadata": {},
   "source": [
    "Hypothesis 3: A new policy will affect those states with a mean AQI of 10 or greater. Will Michigan be affected by this new policy?"
   ]
  },
  {
   "cell_type": "code",
   "execution_count": 10,
   "metadata": {},
   "outputs": [],
   "source": [
    "michigan = aqi[aqi['state_name']=='Michigan']"
   ]
  },
  {
   "cell_type": "markdown",
   "metadata": {},
   "source": [
    "Formulate your null and alternative hypotheses here:\n",
    "\n",
    "𝐻0\n",
    " : The mean AQI of Michigan is less than or equal to 2.4 .\n",
    "\n",
    "𝐻𝐴\n",
    " : The mean AQI of Michigan is greater than 2.4."
   ]
  },
  {
   "cell_type": "code",
   "execution_count": 20,
   "metadata": {},
   "outputs": [
    {
     "name": "stdout",
     "output_type": "stream",
     "text": [
      "-1.755853380511135\n",
      "0.9414078542914772\n"
     ]
    }
   ],
   "source": [
    "# Compute your p-value here\n",
    "tstat, pvalue = stats.ttest_1samp(michigan['aqi_log'], 2.4, alternative='greater')\n",
    "print(tstat)\n",
    "print(pvalue)"
   ]
  },
  {
   "cell_type": "markdown",
   "metadata": {},
   "source": [
    "With a p-value (0.940) being greater than 0.05 (as your significance level is 5%) and a t-statistic < 0 (-1.74), fail to reject the null hypothesis.\n",
    "\n",
    "Therefore, you cannot conclude at the 5% significance level that Michigan's mean AQI is greater than 2.4. This implies that Michigan would most likely not be affected by the new policy."
   ]
  }
 ],
 "metadata": {
  "kernelspec": {
   "display_name": "base",
   "language": "python",
   "name": "python3"
  },
  "language_info": {
   "codemirror_mode": {
    "name": "ipython",
    "version": 3
   },
   "file_extension": ".py",
   "mimetype": "text/x-python",
   "name": "python",
   "nbconvert_exporter": "python",
   "pygments_lexer": "ipython3",
   "version": "3.12.4"
  }
 },
 "nbformat": 4,
 "nbformat_minor": 2
}
